{
  "nbformat": 4,
  "nbformat_minor": 0,
  "metadata": {
    "colab": {
      "name": "Untitled2.ipynb",
      "provenance": [],
      "authorship_tag": "ABX9TyMUTWoQ7eukNbjCmG49l+tV",
      "include_colab_link": true
    },
    "kernelspec": {
      "name": "python3",
      "display_name": "Python 3"
    },
    "language_info": {
      "name": "python"
    }
  },
  "cells": [
    {
      "cell_type": "markdown",
      "metadata": {
        "id": "view-in-github",
        "colab_type": "text"
      },
      "source": [
        "<a href=\"https://colab.research.google.com/github/mortvvnutri/Proj_1sem_Kosareva/blob/master/PZ_14.ipynb\" target=\"_parent\"><img src=\"https://colab.research.google.com/assets/colab-badge.svg\" alt=\"Open In Colab\"/></a>"
      ]
    },
    {
      "cell_type": "code",
      "execution_count": 2,
      "metadata": {
        "id": "_TrkeYFbVCg5"
      },
      "outputs": [],
      "source": [
        "import re"
      ]
    },
    {
      "cell_type": "code",
      "source": [
        "with open('Dostoevsky.txt') as file:\n",
        "  inf = file.read()"
      ],
      "metadata": {
        "id": "SBJZju6rWILj"
      },
      "execution_count": 6,
      "outputs": []
    },
    {
      "cell_type": "code",
      "source": [
        "fio = re.findall(r'[А-Я]\\.\\s+[А-Я]\\.\\s+[А-Я][а-я]+', inf)"
      ],
      "metadata": {
        "id": "nJIAqzFvV6K8"
      },
      "execution_count": 9,
      "outputs": []
    },
    {
      "cell_type": "code",
      "source": [
        "print(fio)"
      ],
      "metadata": {
        "colab": {
          "base_uri": "https://localhost:8080/"
        },
        "id": "rrnhSFsPWeKL",
        "outputId": "d97eb679-dd50-454e-b16e-c7541e3e4852"
      },
      "execution_count": 10,
      "outputs": [
        {
          "output_type": "stream",
          "name": "stdout",
          "text": [
            "['Ф. М. Достоевский', 'К. Ф. Костомарова', 'Н. А. Майкова', 'Ф. Т. Стелловского', 'А. Ф. Куманиной']\n"
          ]
        }
      ]
    }
  ]
}