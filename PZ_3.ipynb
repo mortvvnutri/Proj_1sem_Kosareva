{
  "nbformat": 4,
  "nbformat_minor": 0,
  "metadata": {
    "colab": {
      "name": "Untitled0.ipynb",
      "provenance": [],
      "authorship_tag": "ABX9TyO53W/eQt+azT1kBSn//cQy",
      "include_colab_link": true
    },
    "kernelspec": {
      "name": "python3",
      "display_name": "Python 3"
    },
    "language_info": {
      "name": "python"
    }
  },
  "cells": [
    {
      "cell_type": "markdown",
      "metadata": {
        "id": "view-in-github",
        "colab_type": "text"
      },
      "source": [
        "<a href=\"https://colab.research.google.com/github/mortvvnutri/Proj_1sem_Kosareva/blob/master/PZ_3.ipynb\" target=\"_parent\"><img src=\"https://colab.research.google.com/assets/colab-badge.svg\" alt=\"Open In Colab\"/></a>"
      ]
    },
    {
      "cell_type": "markdown",
      "source": [
        "ПЗ_3"
      ],
      "metadata": {
        "id": "JbU0451IbTpD"
      }
    },
    {
      "cell_type": "markdown",
      "source": [
        "\n",
        "\n",
        "Проверить высказывание, что чётное либо A, либо B\n",
        "\n"
      ],
      "metadata": {
        "id": "pHT_b0QUajOK"
      }
    },
    {
      "cell_type": "code",
      "execution_count": null,
      "metadata": {
        "id": "xcDsLkhjaH5m"
      },
      "outputs": [],
      "source": [
        "while True:  # Проверка на тип данных переменной A\n",
        "    try:\n",
        "        A = int(input('Число A = '))\n",
        "        if A == 0:  # Проверка на натуральность переменной\n",
        "            print(\"Неверные данные, повторите ввод!\")\n",
        "        else:\n",
        "            break  # Прерывание цикла\n",
        "    except ValueError:\n",
        "        print(\"Неправильно ввели, повторите ввод!\")\n",
        "while True:  # Проверка на тип данных переменной B\n",
        "    try:\n",
        "        B = int(input('Число B = '))\n",
        "        if B == 0:  # Проверка на натуральность переменной\n",
        "            print(\"Неверные данные, повторите ввод!\")\n",
        "        else:\n",
        "            break  # Прерывание цикла\n",
        "    except ValueError:\n",
        "        print(\"Неправильно ввели, повторите ввод!\")\n",
        "if (A % 2) == 0 and not (B % 2) == 0:\n",
        "    print(\"Высказывание истинно\")\n",
        "else:\n",
        "    print(\"Высказывание ложно\")"
      ]
    }
  ]
}