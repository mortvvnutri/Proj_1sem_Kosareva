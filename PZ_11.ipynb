{
  "nbformat": 4,
  "nbformat_minor": 0,
  "metadata": {
    "colab": {
      "name": "PZ_11.ipynb",
      "provenance": [],
      "authorship_tag": "ABX9TyMCE8r6cFXzLs996qMnj/qh",
      "include_colab_link": true
    },
    "kernelspec": {
      "name": "python3",
      "display_name": "Python 3"
    },
    "language_info": {
      "name": "python"
    }
  },
  "cells": [
    {
      "cell_type": "markdown",
      "metadata": {
        "id": "view-in-github",
        "colab_type": "text"
      },
      "source": [
        "<a href=\"https://colab.research.google.com/github/mortvvnutri/Proj_1sem_Kosareva/blob/master/PZ_11.ipynb\" target=\"_parent\"><img src=\"https://colab.research.google.com/assets/colab-badge.svg\" alt=\"Open In Colab\"/></a>"
      ]
    },
    {
      "cell_type": "markdown",
      "source": [
        "Практическая работа №3"
      ],
      "metadata": {
        "id": "JbU0451IbTpD"
      }
    },
    {
      "cell_type": "markdown",
      "source": [
        "\n",
        "\n",
        "Условие задачи: Проверить высказывание, что чётное либо A, либо B\n",
        "\n"
      ],
      "metadata": {
        "id": "pHT_b0QUajOK"
      }
    },
    {
      "cell_type": "code",
      "execution_count": null,
      "metadata": {
        "id": "xcDsLkhjaH5m"
      },
      "outputs": [],
      "source": [
        "while True:  # Проверка на тип данных переменной A\n",
        "    try:\n",
        "        A = int(input('Число A = '))\n",
        "        if A == 0:  # Проверка на натуральность переменной\n",
        "            print(\"Неверные данные, повторите ввод!\")\n",
        "        else:\n",
        "            break  # Прерывание цикла\n",
        "    except ValueError:\n",
        "        print(\"Неправильно ввели, повторите ввод!\")\n",
        "while True:  # Проверка на тип данных переменной B\n",
        "    try:\n",
        "        B = int(input('Число B = '))\n",
        "        if B == 0:  # Проверка на натуральность переменной\n",
        "            print(\"Неверные данные, повторите ввод!\")\n",
        "        else:\n",
        "            break  # Прерывание цикла\n",
        "    except ValueError:\n",
        "        print(\"Неправильно ввели, повторите ввод!\")\n",
        "if (A % 2) == 0 and not (B % 2) == 0:\n",
        "    print(\"Высказывание истинно\")\n",
        "else:\n",
        "    print(\"Высказывание ложно\")"
      ]
    },
    {
      "cell_type": "markdown",
      "source": [
        "Практическая работа №4"
      ],
      "metadata": {
        "id": "szhFcykxcic5"
      }
    },
    {
      "cell_type": "markdown",
      "source": [
        "Условие задачи: Дано целое число N (> 0). Найти сумму N ^ 2 + (N + 1) ^ 2 + (N + 2) ^ 2 + ... + (2N) ^ 2"
      ],
      "metadata": {
        "id": "jzcfKnl1ciaa"
      }
    },
    {
      "cell_type": "code",
      "source": [
        "while True:  # Проверка на тип данных переменной N\n",
        "    try:\n",
        "        N = int(input('Число N = '))\n",
        "        if N < 0:  # Проверка на натуральность переменной\n",
        "            print(\"Неверные данные, повторите ввод!\")\n",
        "        else:\n",
        "            break  # Прерывание цикла\n",
        "    except ValueError:\n",
        "        print(\"Неправильно ввели, повторите ввод!\")\n",
        "\n",
        "a = 0\n",
        "y = 0\n",
        "while y <= N:\n",
        "    a = (N + y) ** 2\n",
        "    y += 1\n",
        "print(a)"
      ],
      "metadata": {
        "id": "5bkOtppmc0Lq"
      },
      "execution_count": null,
      "outputs": []
    },
    {
      "cell_type": "markdown",
      "source": [
        "Практическая работа №5"
      ],
      "metadata": {
        "id": "qrkCe5Qrc3rZ"
      }
    },
    {
      "cell_type": "markdown",
      "source": [
        "Условие задачи: Составить функцию решения задачи: из заданного числа вычли сумму его цифр.Из результата вновь вычли сумму его цифр и т. д. Через сколько таких действий получится нуль?"
      ],
      "metadata": {
        "id": "2tVmSwkOc3pK"
      }
    },
    {
      "cell_type": "code",
      "source": [
        "def f(n):\n",
        "    s = 0\n",
        "    while n > 0:\n",
        "        s += n % 10\n",
        "        n = n // 10\n",
        "    return s\n",
        "\n",
        "\n",
        "c = int(input(\"Введите число: \"))\n",
        "k = 0\n",
        "while c > 0:\n",
        "    c -= f(c)\n",
        "    k += 1\n",
        "\n",
        "print(\"Через \" + str(k) + \" действий\")"
      ],
      "metadata": {
        "id": "GtklqmmAdSuM"
      },
      "execution_count": null,
      "outputs": []
    }
  ]
}